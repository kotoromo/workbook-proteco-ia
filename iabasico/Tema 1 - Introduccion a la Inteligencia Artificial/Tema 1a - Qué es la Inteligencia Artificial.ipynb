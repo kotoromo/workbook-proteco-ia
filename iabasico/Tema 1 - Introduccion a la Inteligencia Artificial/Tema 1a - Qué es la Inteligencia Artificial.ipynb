{
 "cells": [
  {
   "cell_type": "markdown",
   "metadata": {},
   "source": [
    "# Tema 1.a - ¿Qué es la Inteligencia Artificial?\n"
   ]
  },
  {
   "cell_type": "markdown",
   "metadata": {},
   "source": [
    "## Tema 1.a.i - Definiciones"
   ]
  },
  {
   "cell_type": "markdown",
   "metadata": {},
   "source": [
    "Nos hacemos llamar <i>Homo sapiens</i> porque nuestra <b>inteligencia</b> es tan importante para nosotros. Por miles de años hemos intentado entender <i>cómo es que pensamos</i>. Si lo ponemos en perspectiva, la pregunta es básicamente cómo es que un puñado de materia es capáz de percibir, comprender y manipular un mundo muchísimo más grande y complicado que el ente mísmo. El campo de la <b>Inteligencia Artificial (IA)</b> va aún más lejos y se pregunta: <i>¿Cómo es que pensamos y cómo rayos construimos entidades inteligentes? </i>\n",
    "    \n",
    "La inteligenica artificial engloba una enorme variedad de subcampos, desde lo general; inteligencia general artificial, visión artificial, aprendizaje, etc.; hasta lo específico, como jugar Go, demostrar teoremas matemáticos, escribir obras literarias, predecir el mejor momento para comprar y vender acciones en la bolsa de valores, y más. La inteligencia artificial es relevante para cualquier tarea intelectual; <i>\"es verdaderamente un campo universal.\"</i>[<a href=#ref1>1</a>]"
   ]
  },
  {
   "cell_type": "markdown",
   "metadata": {},
   "source": [
    "### ¿Qué es la IA?"
   ]
  },
  {
   "cell_type": "markdown",
   "metadata": {},
   "source": [
    "Existen cuatro definiciones de la IA, divididas en dos partes, superior e inferior, en el recuadro de abajo. La parte superior se preocupa por proceso de diseño y razonamiento, mientras que la parte inferior se preocupan por comportamiento.\n",
    "\n",
    "Quizás resulte curioso realizar esta clasificación, pero en realidad está cubierta de razón. La inteligencia la podemos separar en dos grandes partes: pensamiento en actuación. Cuando un animal, como un cuervo <a href=#><!-- Video del cuervo aqui --></a> por ejemplo, emplea un palito de madera como herramienta para resolver problemas decimos que actúa de manera inteligente, mientras que cuando pensamos en una estrategia para optimizar un problema pensamos de manera racional. En los apartados siguientes se elabora un poco más sobre cada uno de los puntos de vista de la IA y su valor y aportaciones en la disciplina."
   ]
  },
  {
   "cell_type": "markdown",
   "metadata": {},
   "source": [
    "<table style=\"width:100%\">\n",
    "    <tr>\n",
    "        <th>Pensar como humano</th>\n",
    "        <th>Pensar racionalmente</th>\n",
    "    </tr>\n",
    "    <tr>\n",
    "        <td>\"[La automatisación de] actividades que asociamos con el pensamiento humano, tales como tomar decisiones, resolver problemas, aprender...\"(Bellman, 1978)</td>\n",
    "        <td>\"El estudio de las facultades mentales mediante el uso de modelos computacionales.\"(Charniak y McDermott, 1985)</td>\n",
    "    </tr>\n",
    "    <tr>\n",
    "        <th>Actuar como humano</th>\n",
    "        <th>Actuar racionalmente</th>\n",
    "    </tr>\n",
    "    <tr>\n",
    "        <td>\"El arte de crear máquinas que realizan tareas que requieren inteligencia cuando son realizadas por humanos.\"(Kurzweil, 1990)</td>\n",
    "        <td>\"La inteligencia computacional es el estudio del diseño de los agentes inteligente.\" (Poole <i>et al</i>, 1998</td>\n",
    "    </tr>\n",
    "    \n",
    "</table>"
   ]
  },
  {
   "cell_type": "markdown",
   "metadata": {},
   "source": [
    "#### Actuar como humano: La prueba de Turing\n",
    "\n",
    "El test de Turing fue propuesto por el matemático inglés Alan Turing (1950), y muy probablemente hayas escuchado hablar de él. Este test fue diseñado para proveer una definición operacional satisfactoria de inteligencia. La prueba consiste en que la computadora tiene que hacer creer a un interrogador humano, tras plantear algunas preguntas escritas, que se trata de un humano quien responde a las interrogantes. "
   ]
  },
  {
   "cell_type": "markdown",
   "metadata": {},
   "source": [
    "\n",
    "![Fotografía de Alan Turing](./img/440px-Alan_Turing_Aged_16.jpg \"Alan Turing a sus 16 años.\")"
   ]
  },
  {
   "cell_type": "markdown",
   "metadata": {},
   "source": [
    "Para que una computadora pudiese pasar la prueba requeriía de las siguientes capacidades:\n",
    "\n",
    "*   procesamiento de lenguaje natural\n",
    "*   representación del conocimiento\n",
    "*   razonamiento automatizado\n",
    "*   aprendizaje de máquina\n",
    "\n",
    "Si se requiere de interacción física con el interrogador, entonces se emplea la <b>prueba de turing total</b>. Esta prueba requiere la posesión de las siguientes habilidades:\n",
    "\n",
    "*   visión artificial\n",
    "*   robótica\n",
    "\n",
    "Estas 6 diciplinas conforman la mayoría de los campos de la IA, pero los investigadores han dedicado muy poco esfuerzo en hacer que una máquina pase la prueba de Turing, pues consideran que es de mayor importancia estudiar los principios fundamentales de la inteligencia que duplicar a un ejemplar. Es como si para lograr el vuelo imitásemos a las aves. Los aviones no aletean ni tienen plumas que los hacen volar o un saco de aire como algunas aves, sino aprovechan los principios fundamentales del vuelo; la aeronáutica y la mecánica de fluidos; para lograr el <i>vuelo artificial</i>. "
   ]
  },
  {
   "cell_type": "markdown",
   "metadata": {},
   "source": [
    "#### Pensar como humano\n",
    "\n",
    "Este enfoque se centra en replicar la manera en que los humanos piensan y para esto, se requiere conocer cómo es que los seres humanos pensamos fisiológicamente hablando. Esto se puede lograr mediante la introspección, mediante experimentos fisiológicos y mediante estudios por imagen del cerebro. Si contamos con una teoría lo suficientemente precisa, entonces podemos traducir dicha teoría a un programa de computadora y, si el comportamiento del programa concuerda con el comportamiento de un humano para una entrada, entonces podríamos decir que los mecanismos bajo los que opera el programa también los realiza el cerebro humano. El campo de la <b>ciencia cognitiva</b> aprovecha modelos computacionales de la IA y técnicas experimentales de la psicología para construir teorías precisas y demostrables de la mente humana."
   ]
  },
  {
   "cell_type": "markdown",
   "metadata": {},
   "source": [
    "#### Pensar racionalmente\n",
    "\n",
    "Una de las primeras personas en intentar codificar el razonamiento fue el filósofo griego Aristóteles con sus silogismos, mecanismo que le permitía inducir conclusiones correctas.\n",
    "\n",
    "> <i> Sócrates es un ser humano; todos los seres humanos son mortales; ergo, Sócrates es mortal </i>\n",
    "\n",
    "El estudio de estos silogismos dió inicio al campo de la lógica.\n",
    "\n",
    "Los lógicos, aquellos que se dedican al estudio de la lógica, desarrollaron en el siglo XIX una notación que les permitia modelar todo tipo de objetos y sus relaciónes. En 1965 ya existían programas que en principio podían resolver cualquier problema descrito en notación lógica con solución.\n",
    "\n",
    "Pero como siempre, no todo es perfecto. Existen dos grandes problemas con este enfoque:\n",
    "\n",
    "*   No es fácil describir conocimiento con cierta incertidumbre inherente.\n",
    "*   Hay una gran diferencia entre resolver un problema en teoría y en práctica."
   ]
  },
  {
   "cell_type": "markdown",
   "metadata": {},
   "source": [
    "#### Actuar racionalmente\n",
    "\n",
    "Este enfoque se basa en el concepto de un agente con capacidades racionales. Un <b>agente</b> es algo que actúa. A pesar de que un programa de computadora cualquiera actúa, no es considerado un agente, pues de los agentes se requiere capacidad de operar de manera autónoma, percibir el entorno en el que se encuentra, persistir por un periodo largo de tiempo, adaptarse al cambio, y crear y perseguir metas. Un <b>agente racional</b> es aquel que actúa con el objetivo de cumplir su meta de la1º"
   ]
  },
  {
   "cell_type": "markdown",
   "metadata": {},
   "source": []
  },
  {
   "cell_type": "markdown",
   "metadata": {},
   "source": []
  },
  {
   "cell_type": "markdown",
   "metadata": {},
   "source": []
  },
  {
   "cell_type": "markdown",
   "metadata": {},
   "source": []
  },
  {
   "cell_type": "markdown",
   "metadata": {},
   "source": [
    "## Fuentes y enlaces\n",
    "\n",
    "<a id=\"ref1\">[1] </a> RUSSEL, Stuart; NORVIG, Peter; <i>Artificial Intelligence: A modern approach; Third Edition, Prentice Hall; New Jersey, EEUUA; p.p.1152, p.21"
   ]
  }
 ],
 "metadata": {
  "kernelspec": {
   "display_name": "Python 3",
   "language": "python",
   "name": "python3"
  },
  "language_info": {
   "codemirror_mode": {
    "name": "ipython",
    "version": 3
   },
   "file_extension": ".py",
   "mimetype": "text/x-python",
   "name": "python",
   "nbconvert_exporter": "python",
   "pygments_lexer": "ipython3",
   "version": "3.6.3"
  }
 },
 "nbformat": 4,
 "nbformat_minor": 2
}
