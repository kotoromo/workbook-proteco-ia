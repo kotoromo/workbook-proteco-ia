{
 "cells": [
  {
   "cell_type": "markdown",
   "metadata": {},
   "source": [
    "# Tema 1.a - ¿Qué es la Inteligencia Artificial?\n"
   ]
  },
  {
   "cell_type": "markdown",
   "metadata": {},
   "source": [
    "## Tema 1.a.i - Definiciones"
   ]
  },
  {
   "cell_type": "markdown",
   "metadata": {},
   "source": [
    "Nos hacemos llamar <i>Homo sapiens</i> porque nuestra <b>inteligencia</b> es tan importante para nosotros. Por miles de años hemos intentado entender <i>cómo es que pensamos</i>. Si lo ponemos en perspectiva, la pregunta es básicamente cómo es que un puñado de materia es capáz de percibir, comprender y manipular un mundo muchísimo más grande y complicado que el ente mísmo. El campo de la <b>Inteligencia Artificial (IA)</b> va aún más lejos y se pregunta: <i>¿Cómo es que pensamos y cómo rayos construimos entidades inteligentes? </i>\n",
    "    \n",
    "La inteligenica artificial engloba una enorme variedad de subcampos, desde lo general; inteligencia general artificial, visión artificial, aprendizaje, etc.; hasta lo específico, como jugar Go, demostrar teoremas matemáticos, escribir obras escritas, y más. La inteligencia artificial es relevante para cualquier tarea intelectual; <i>\"es verdaderamente un campo universal.\"</i>[<a href=#ref1>1</a>]"
   ]
  },
  {
   "cell_type": "markdown",
   "metadata": {},
   "source": [
    "### ¿Qué es la IA?"
   ]
  },
  {
   "cell_type": "markdown",
   "metadata": {},
   "source": [
    "Existen cuatro definiciones de la IA, divididas een dos partes, superior e inferior. La parte superior se preocupa por proceso de diseño y razonamiento, mientras que la parte inferior se preocupan por comportamiento."
   ]
  },
  {
   "cell_type": "markdown",
   "metadata": {},
   "source": [
    "<table style=\"width:100%\">\n",
    "    <tr>\n",
    "        <th>Pensar como humano</th>\n",
    "        <th>Pensar racionalmente</th>\n",
    "    </tr>\n",
    "    <tr>\n",
    "        <td>\"[La automatisación de] actividades que asociamos con el pensamiento humano, tales como tomar decisiones, resolver problemas, aprender...\"(Bellman, 1978)</td>\n",
    "        <td>\"El estudio de las facultades mentales mediante el uso de modelos computacionales.\"(Charniak y McDermott, 1985)</td>\n",
    "    </tr>\n",
    "    <tr>\n",
    "        <th>Actuar como humano</th>\n",
    "        <th>Actuar racionalmente</th>\n",
    "    </tr>\n",
    "    <tr>\n",
    "        <td>\"El arte de crear máquinas que realizan tareas que requieren inteligencia cuando son realizadas por humanos.\"(Kurzweil, 1990)</td>\n",
    "        <td>\"La inteligencia computacional es el estudio del diseño de los agentes inteligente.\" (Poole <i>et al</i>, 1998</td>\n",
    "    </tr>\n",
    "    \n",
    "</table>"
   ]
  },
  {
   "cell_type": "markdown",
   "metadata": {},
   "source": [
    "#### Actuar como humano: La prueba de Turing\n",
    "\n",
    "El test de Turing fue propuesto por el matemático inglés Alan Turing (1950), y muy probablemente hayas escuchado hablar de él. Este test fue diseñado para proveer una definición operacional satisfactoria de inteligencia. La prueba consiste en que la computadora tiene que hacer creer a un interrogador humano, tras plantear algunas preguntas escritas, que se trata de un humano quien responde a las interrogantes. "
   ]
  },
  {
   "cell_type": "markdown",
   "metadata": {},
   "source": [
    "\n",
    "![Fotografía de Alan Turing](./img/440px-Alan_Turing_Aged_16.jpg \"Alan Turing a sus 16 años.\")"
   ]
  },
  {
   "cell_type": "markdown",
   "metadata": {},
   "source": [
    "Para que una computadora pudiese pasar la prueba requeriía de las siguientes capacidades:\n",
    "\n",
    "* procesamiento de lenguaje natural\n",
    "* representación del conocimiento\n",
    "* razonamiento automatizado\n",
    "* aprendizaje de máquina\n",
    "\n",
    "Si se requiere de interacción física con el interrogador, entonces se emplea la <b>prueba de turing total</b>. Esta prueba requiere la posesión de las siguientes habilidades:\n",
    "\n",
    "* visión artificial\n",
    "* robótica\n",
    "\n",
    "Estas 6 diciplinas conforman la mayoría de los campos de la IA, pero los investigadores han dedicado muy poco esfuerzo en hacer que una máquina pase la prueba de Turing, pues consideran que es de mayor importancia estudiar los principios fundamentales de la inteligencia que duplicar a un ejemplar. Es como si para lograr el vuelo imitásemos a las aves. Los aviones no aletean ni tienen plumas que los hacen volar o un saco de aire como algunas aves, sino aprovechan los principios fundamentales del vuelo; la aeronáutica y la mecánica de fluidos; para lograr el <i>vuelo artificial</i>. "
   ]
  },
  {
   "cell_type": "markdown",
   "metadata": {},
   "source": []
  },
  {
   "cell_type": "markdown",
   "metadata": {},
   "source": []
  },
  {
   "cell_type": "markdown",
   "metadata": {},
   "source": []
  },
  {
   "cell_type": "markdown",
   "metadata": {},
   "source": []
  },
  {
   "cell_type": "markdown",
   "metadata": {},
   "source": []
  },
  {
   "cell_type": "markdown",
   "metadata": {},
   "source": []
  },
  {
   "cell_type": "markdown",
   "metadata": {},
   "source": []
  },
  {
   "cell_type": "markdown",
   "metadata": {},
   "source": [
    "## Fuentes\n",
    "\n",
    "<a id=\"ref1\">[1] </a> RUSSEL, Stuart; NORVIG, Peter; <i>Artificial Intelligence: A modern approach; Third Edition, Prentice Hall; New Jersey, EEUUA; p.p.1152, p.21"
   ]
  }
 ],
 "metadata": {
  "kernelspec": {
   "display_name": "Python 3",
   "language": "python",
   "name": "python3"
  },
  "language_info": {
   "codemirror_mode": {
    "name": "ipython",
    "version": 3
   },
   "file_extension": ".py",
   "mimetype": "text/x-python",
   "name": "python",
   "nbconvert_exporter": "python",
   "pygments_lexer": "ipython3",
   "version": "3.6.3"
  }
 },
 "nbformat": 4,
 "nbformat_minor": 2
}
