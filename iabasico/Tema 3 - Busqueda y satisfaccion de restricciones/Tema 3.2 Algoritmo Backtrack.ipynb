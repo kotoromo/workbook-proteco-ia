{
 "cells": [
  {
   "cell_type": "code",
   "execution_count": 298,
   "metadata": {},
   "outputs": [],
   "source": [
    "import copy"
   ]
  },
  {
   "cell_type": "code",
   "execution_count": 108,
   "metadata": {},
   "outputs": [],
   "source": [
    "class csp_variable:\n",
    "    \"\"\"\n",
    "    dom debe ser un set, para que ninguna tupla que representa el dominio de la variable se repita.\n",
    "    var_id es el identificador de la variable. Por defecto es None.\n",
    "    \"\"\"\n",
    "    def __init__(self, var_id = None, dom = set()):\n",
    "        self.id = var_id\n",
    "        self.dom = set(dom)\n",
    "        self.variable = (var_id, dom)\n",
    "    \n",
    "    def __repr__(self):\n",
    "        return \"{id}\".format(id=self.id)\n",
    "    \n",
    "    def Domain(self):\n",
    "        return self.dom\n",
    "    \n",
    "    def getID(self):\n",
    "        return self.id"
   ]
  },
  {
   "cell_type": "code",
   "execution_count": 163,
   "metadata": {},
   "outputs": [],
   "source": [
    "class csp:\n",
    "    def __init__(self):\n",
    "        self.X = {} # k,v pairs where k is the variable identifier and v is the domain of k.\n",
    "        self.D = {} #k,v pair where k is X[i] and v is a set representing X[i]'s domain.\n",
    "        self.C = [] #list of k,v tuples where k is the set of variables involved in the constraint, and v is the constraint.\n",
    "                    # Every item in C is unique.\n",
    "    def defineVariables(self, X):\n",
    "        self.X = X\n",
    "        \n",
    "    def defineDomains(self, D):\n",
    "        self.D = D\n",
    "        \n",
    "    def defineConstraints(self, C):\n",
    "        self.C = C\n",
    "        \n",
    "    def getVariables(self):\n",
    "        return self.X\n",
    "        \n",
    "    def getDomains(self):\n",
    "        return self.D\n",
    "        \n",
    "    def getConstraints(self):\n",
    "        return self.C\n",
    "    \n",
    "    def __repr__(self):\n",
    "        return \"CSP: \\n X ={vars},\\n D ={domains},\\n C ={constraints}\\n\".format(\n",
    "            vars = self.X, \n",
    "            domains=self.D, \n",
    "            constraints=self.C)\n",
    "    "
   ]
  },
  {
   "cell_type": "code",
   "execution_count": 151,
   "metadata": {},
   "outputs": [
    {
     "name": "stdout",
     "output_type": "stream",
     "text": [
      "{1, 2, 3}\n",
      "a\n",
      " b\n",
      " c\n"
     ]
    }
   ],
   "source": [
    "\"\"\" csp_variables testing grounds\"\"\"\n",
    "\n",
    "x = csp_variable('x', set((1,2,3)))\n",
    "\n",
    "print(x.Domain())\n"
   ]
  },
  {
   "cell_type": "code",
   "execution_count": 164,
   "metadata": {},
   "outputs": [
    {
     "name": "stdout",
     "output_type": "stream",
     "text": [
      "{'x': {1, 2, 3}, 'y': {1, 2, 3}, 'z': {1, 2, 3}}\n",
      "{'x': {1, 2, 3}, 'y': {1, 2, 3}, 'z': {1, 2, 3}}\n",
      "[(('x', 'y', 'z'), {(2, 1, 3), (1, 2, 3), (1, 1, 2)}), (('x', 'y'), {(1, 2), (1, 3), (2, 3)})]\n",
      "CSP: \n",
      " X ={'x': {1, 2, 3}, 'y': {1, 2, 3}, 'z': {1, 2, 3}},\n",
      " D ={'x': {1, 2, 3}, 'y': {1, 2, 3}, 'z': {1, 2, 3}},\n",
      " C =[(('x', 'y', 'z'), {(2, 1, 3), (1, 2, 3), (1, 1, 2)}), (('x', 'y'), {(1, 2), (1, 3), (2, 3)})]\n",
      "\n"
     ]
    }
   ],
   "source": [
    "\"\"\" CSP class testing grounds \"\"\"\n",
    "\n",
    "problem = csp()\n",
    "\n",
    "x = csp_variable('x', (1, 2, 3))\n",
    "y = csp_variable('y', (1, 2, 3))\n",
    "z = csp_variable('z', (1, 2, 3))\n",
    "\n",
    "X = {\n",
    "    x.getID():x.Domain(),\n",
    "    y.getID():y.Domain(),\n",
    "    z.getID():z.Domain()\n",
    "}\n",
    "print(X)\n",
    "\n",
    "D = {\n",
    "    x.getID():x.Domain(),\n",
    "    y.getID():y.Domain(),\n",
    "    z.getID():z.Domain()\n",
    "}\n",
    "\n",
    "print(D)\n",
    "\n",
    "C1 = (\n",
    "        ('x', 'y', 'z'), \n",
    "        {(xi, yj, zk) for xi in X['x'] for yj in X['y'] for zk in X['z'] if xi + yj == zk }\n",
    "    )\n",
    "\n",
    "C2 = (\n",
    "        ('x', 'y'), \n",
    "        {(xi, yj) for xi in X['x'] for yj in X['y'] if xi < yj}\n",
    "    )\n",
    "\n",
    "C = [C1, C2]\n",
    "\n",
    "print(C)\n",
    "\n",
    "problem.X = X\n",
    "problem.D = D\n",
    "problem.C = C\n",
    "\n",
    "print(problem)"
   ]
  },
  {
   "cell_type": "code",
   "execution_count": 343,
   "metadata": {},
   "outputs": [
    {
     "name": "stdout",
     "output_type": "stream",
     "text": [
      "[{'green', 'blue', 'red'}, {'green', 'blue', 'red'}, {'green', 'blue', 'red'}, {'green', 'blue', 'red'}, {'green', 'blue', 'red'}, {'green', 'blue', 'red'}, {'green', 'blue', 'red'}]\n",
      "{('green', 'blue'), ('red', 'blue'), ('blue', 'green'), ('red', 'green'), ('blue', 'red'), ('green', 'red')}\n"
     ]
    }
   ],
   "source": [
    "\"\"\" Australia CSP definition testing grounds \"\"\"\n",
    "\n",
    "problem = csp()\n",
    "\n",
    "Di = set(['red', 'green', 'blue'])\n",
    "\n",
    "WA = csp_variable('WA', Di)\n",
    "NT = csp_variable('NT', Di)\n",
    "Q = csp_variable('Q', Di)\n",
    "NSW = csp_variable('NSW', Di)\n",
    "V = csp_variable('V', Di)\n",
    "SA = csp_variable('SA', Di)\n",
    "T = csp_variable('T', Di)\n",
    "\n",
    "problem.X = set([WA, NT, Q, NSW, V, SA, T])\n",
    "problem.D = [Xi.Domain() for Xi in problem.X]\n",
    "print(problem.D)\n",
    "problem.C = {\n",
    "    (WA, SA): {(vi, vj) for vi in WA.Domain() for vj in SA.Domain() if vi is not vj},\n",
    "    (NT, SA): {(vi, vj) for vi in NT.Domain() for vj in SA.Domain() if vi is not vj},\n",
    "    (SA, Q): {(vi, vj) for vi in SA.Domain() for vj in Q.Domain() if vi is not vj},\n",
    "    (NSW, SA): {(vi, vj) for vi in NSW.Domain() for vj in SA.Domain() if vi is not vj},\n",
    "    (V, SA): {(vi, vj) for vi in V.Domain() for vj in SA.Domain() if vi is not vj},\n",
    "    (WA, NT): {(vi, vj) for vi in WA.Domain() for vj in NT.Domain() if vi is not vj},\n",
    "    (NT, Q): {(vi, vj) for vi in NT.Domain() for vj in Q.Domain() if vi is not vj},\n",
    "    (Q, NSW): {(vi, vj) for vi in Q.Domain() for vj in NSW.Domain() if vi is not vj},\n",
    "    (NSW, V): {(vi, vj) for vi in NSW.Domain() for vj in V.Domain() if vi is not vj}\n",
    "}\n",
    "\n",
    "print(problem.C[(WA, SA)])"
   ]
  },
  {
   "cell_type": "code",
   "execution_count": 360,
   "metadata": {},
   "outputs": [],
   "source": [
    "def Revise(csp, Xi, Xj):\n",
    "    revised = False\n",
    "    Di = Xi.Domain()\n",
    "    Dj = Xj.Domain()\n",
    "    \n",
    "    Di_copy = copy.deepcopy(Di)\n",
    "    diff = [(vk ,Dj - {vk}) for vk in Di]\n",
    "    \n",
    "    for tupl in diff:\n",
    "        if len(tupl[1]) == 0:\n",
    "            Di.remove(tupl[0])        \n",
    "            \n",
    "            revised = True\n",
    "    return revised"
   ]
  },
  {
   "cell_type": "code",
   "execution_count": 362,
   "metadata": {},
   "outputs": [
    {
     "name": "stdout",
     "output_type": "stream",
     "text": [
      "False\n"
     ]
    }
   ],
   "source": [
    "\"\"\" Revise testing grounds \"\"\"\n",
    "\n",
    "\"\"\"\n",
    "\n",
    "Xi = WA\n",
    "Xj = SA\n",
    "Di = {'red', 'green', 'blue'}#Xi.Domain()\n",
    "Dj = {'blue'}#Xj.Domain()\n",
    "\n",
    "\n",
    "diff = [(vk ,Dj - {vk}) for vk in Di]\n",
    "print(diff)\n",
    "#print(problem.C[Xi, Xj])\n",
    "\n",
    "for tupl in diff:\n",
    "    if len(tupl[1]) == 0:\n",
    "        Di.remove(tupl[0])\n",
    "\n",
    "print(Di)\n",
    "\n",
    "\"\"\"\n",
    "print(\n",
    "    Revise(problem, WA, SA)\n",
    ")\n"
   ]
  },
  {
   "cell_type": "code",
   "execution_count": 4,
   "metadata": {},
   "outputs": [],
   "source": [
    "def AC3(csp):\n",
    "    queue = csp.getArcs()\n",
    "    \n",
    "    while not queue.isEmpty():\n",
    "        (X_i, X_j) = Remove_First(queue)\n",
    "        if Revise(csp, X_i, X_j)\n",
    "    "
   ]
  },
  {
   "cell_type": "code",
   "execution_count": 4,
   "metadata": {},
   "outputs": [],
   "source": [
    "class value:\n",
    "    def __init__(self):\n",
    "        pass\n",
    "    \n",
    "    def IsConsistent(self, assignment):\n",
    "        pass"
   ]
  },
  {
   "cell_type": "code",
   "execution_count": null,
   "metadata": {},
   "outputs": [],
   "source": [
    "def Select_Unasigned_Variable(csp):\n",
    "    pass"
   ]
  },
  {
   "cell_type": "code",
   "execution_count": null,
   "metadata": {},
   "outputs": [],
   "source": [
    "def Order_Domain_Values(var, assignment, csp):\n",
    "    pass"
   ]
  },
  {
   "cell_type": "code",
   "execution_count": null,
   "metadata": {},
   "outputs": [],
   "source": [
    "def Select_Unasigned_Variable(csp):\n",
    "    pass"
   ]
  },
  {
   "cell_type": "code",
   "execution_count": null,
   "metadata": {},
   "outputs": [],
   "source": [
    "def Backtrack(assignment, csp):\n",
    "    failure = none\n",
    "    \n",
    "    if complete(assignment):\n",
    "        return assignment\n",
    "    \n",
    "    var = Select_Unasigned_Variable(csp)\n",
    "    \n",
    "    for value in Order_Domain_Values(var, assignment, csp):\n",
    "        if value.IsConsistent(assignment):\n",
    "            assignment.add(value)\n",
    "            inferences = Inference(csp, var, value)\n",
    "            if inferences.IsNotFailure():\n",
    "                assignment.add(inferences)\n",
    "                result = Backtrack(assignment, csp)\n",
    "                if result.IsNotFailure():\n",
    "                    return result\n",
    "        assignment.remove(value)\n",
    "        assignment.remove(inferences)\n",
    "    return failure\n",
    "            "
   ]
  },
  {
   "cell_type": "code",
   "execution_count": 3,
   "metadata": {},
   "outputs": [
    {
     "name": "stdout",
     "output_type": "stream",
     "text": [
      "set()\n"
     ]
    }
   ],
   "source": [
    "def Backtracking_Search(csp)\n",
    "    return Backtrack([], csp)"
   ]
  }
 ],
 "metadata": {
  "kernelspec": {
   "display_name": "Python 3",
   "language": "python",
   "name": "python3"
  },
  "language_info": {
   "codemirror_mode": {
    "name": "ipython",
    "version": 3
   },
   "file_extension": ".py",
   "mimetype": "text/x-python",
   "name": "python",
   "nbconvert_exporter": "python",
   "pygments_lexer": "ipython3",
   "version": "3.6.3"
  }
 },
 "nbformat": 4,
 "nbformat_minor": 2
}
